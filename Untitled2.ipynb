{
  "nbformat": 4,
  "nbformat_minor": 0,
  "metadata": {
    "colab": {
      "provenance": [],
      "authorship_tag": "ABX9TyNZPZPnF1Yk0558eS8SyLvl",
      "include_colab_link": true
    },
    "kernelspec": {
      "name": "python3",
      "display_name": "Python 3"
    },
    "language_info": {
      "name": "python"
    }
  },
  "cells": [
    {
      "cell_type": "markdown",
      "metadata": {
        "id": "view-in-github",
        "colab_type": "text"
      },
      "source": [
        "<a href=\"https://colab.research.google.com/github/vengatesh9976/Introuction-to-python/blob/main/Untitled2.ipynb\" target=\"_parent\"><img src=\"https://colab.research.google.com/assets/colab-badge.svg\" alt=\"Open In Colab\"/></a>"
      ]
    },
    {
      "cell_type": "code",
      "execution_count": 10,
      "metadata": {
        "colab": {
          "base_uri": "https://localhost:8080/"
        },
        "id": "PFhxTKEPNU0i",
        "outputId": "ac219969-07a7-465a-c567-e9da9c8ffcb7"
      },
      "outputs": [
        {
          "output_type": "stream",
          "name": "stdout",
          "text": [
            "[-] Port 45 is CLOSED on 8.8.8.8\n",
            "[-] Port 46 is CLOSED on 8.8.8.8\n",
            "[-] Port 47 is CLOSED on 8.8.8.8\n",
            "[-] Port 48 is CLOSED on 8.8.8.8\n",
            "[-] Port 49 is CLOSED on 8.8.8.8\n",
            "[-] Port 50 is CLOSED on 8.8.8.8\n",
            "[-] Port 51 is CLOSED on 8.8.8.8\n",
            "[-] Port 52 is CLOSED on 8.8.8.8\n",
            "[+] Port 53 is OPEN on 8.8.8.8\n",
            "[-] Port 54 is CLOSED on 8.8.8.8\n"
          ]
        }
      ],
      "source": [
        "\n",
        "import socket\n",
        "def port_scanner(ip, port):\n",
        "  try:\n",
        "      with socket.socket(socket.AF_INET, socket.SOCK_STREAM) as s:\n",
        "       s.settimeout(1) # Timeout for connection\n",
        "       s.connect((ip, port))\n",
        "       print(f\"[+] Port {port} is OPEN on {ip}\")\n",
        "  except:\n",
        "      print(f\"[-] Port {port} is CLOSED on {ip}\")\n",
        "# Example Usage\n",
        "ip = \"8.8.8.8\" # Localhost\n",
        "for port in range(45,55):\n",
        "  port_scanner(ip, port)"
      ]
    }
  ]
}